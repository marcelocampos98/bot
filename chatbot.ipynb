{
  "nbformat": 4,
  "nbformat_minor": 0,
  "metadata": {
    "colab": {
      "name": "chatbot.ipynb",
      "provenance": [],
      "collapsed_sections": [
        "CZWcK7QEvYBc"
      ],
      "toc_visible": true,
      "include_colab_link": true
    },
    "kernelspec": {
      "name": "python3",
      "display_name": "Python 3"
    }
  },
  "cells": [
    {
      "cell_type": "markdown",
      "metadata": {
        "id": "view-in-github",
        "colab_type": "text"
      },
      "source": [
        "<a href=\"https://colab.research.google.com/github/marcelocampos98/bot/blob/master/chatbot.ipynb\" target=\"_parent\"><img src=\"https://colab.research.google.com/assets/colab-badge.svg\" alt=\"Open In Colab\"/></a>"
      ]
    },
    {
      "cell_type": "markdown",
      "metadata": {
        "id": "CZWcK7QEvYBc",
        "colab_type": "text"
      },
      "source": [
        "# Dataset"
      ]
    },
    {
      "cell_type": "code",
      "metadata": {
        "id": "0VPqdrccCbBJ",
        "colab_type": "code",
        "colab": {}
      },
      "source": [
        "treino_intencao = [\n",
        "  'cardapio', \n",
        "  'cardapio',\n",
        "  'cardapio',\n",
        "  'cardapio',\n",
        "  'cardapio',\n",
        "  'cardapio',\n",
        "  'cardapio',\n",
        "  'cardapio',\n",
        "  'cardapio',\n",
        "  'cardapio',\n",
        "  'cardapio',\n",
        "  'cardapio',\n",
        "  'cardapio',\n",
        "  'cardapio',\n",
        "  'cardapio',\n",
        "  'cardapio',\n",
        "  'cardapio',\n",
        "  'cardapio',\n",
        "  'cardapio',\n",
        "  'cardapio',\n",
        "  'cardapio',\n",
        "  'cardapio',\n",
        "  'cardapio',\n",
        "  'cardapio',\n",
        "  'cardapio',\n",
        "  'cardapio',\n",
        "  'cardapio',\n",
        "  'cardapio',\n",
        "  'cardapio',\n",
        "  'cardapio',\n",
        "  'cardapio',\n",
        "  'cardapio',\n",
        "  'cardapio',\n",
        "  'conta',\n",
        "  'conta',\n",
        "  'conta',\n",
        "  'conta',\n",
        "  'conta',\n",
        "  'conta',\n",
        "  'conta',\n",
        "  'desconto',\n",
        "  'desconto',\n",
        "  'desconto',\n",
        "  'desconto',\n",
        "  'desconto',\n",
        "  'elogio',\n",
        "  'elogio',\n",
        "  'elogio',\n",
        "  'elogio',\n",
        "  'elogio',\n",
        "  'elogio',\n",
        "  'elogio',\n",
        "  'elogio',\n",
        "  'elogio',\n",
        "  'elogio',\n",
        "  'elogio',\n",
        "  'elogio',\n",
        "  'elogio',\n",
        "  'elogio',\n",
        "  'elogio',\n",
        "  'elogio',\n",
        "  'elogio',\n",
        "  'elogio',\n",
        "  'elogio',\n",
        "  'elogio',\n",
        "  'elogio',\n",
        "  'elogio',\n",
        "  'elogio',\n",
        "  'elogio',\n",
        "  'elogio',\n",
        "  'elogio',\n",
        "  'forma de pagamento',\n",
        "  'forma de pagamento',\n",
        "  'forma de pagamento',\n",
        "  'forma de pagamento',\n",
        "  'forma de pagamento',\n",
        "  'forma de pagamento',\n",
        "  'forma de pagamento',\n",
        "  'forma de pagamento',\n",
        "  'forma de pagamento',\n",
        "  'forma de pagamento',\n",
        "  'forma de pagamento',\n",
        "  'forma de pagamento',\n",
        "  'funcionario', \n",
        "  'funcionario', \n",
        "  'funcionario', \n",
        "  'funcionario', \n",
        "  'funcionario', \n",
        "  'funcionario', \n",
        "  'funcionario', \n",
        "  'funcionario',\n",
        "  'funcionario', \n",
        "  'gorjeta',\n",
        "  'gorjeta',\n",
        "  'gorjeta',\n",
        "  'gorjeta',\n",
        "  'gorjeta',\n",
        "  'gorjeta',\n",
        "  'pedido',\n",
        "  'pedido',\n",
        "  'pedido',\n",
        "  'pedido',\n",
        "  'pedido',\n",
        "  'pedido',\n",
        "  'pedido',\n",
        "  'pedido',\n",
        "  'pedido',\n",
        "  'pedido',\n",
        "  'pedido',\n",
        "  'pedido',\n",
        "  'pedido',\n",
        "  'pedido',\n",
        "  'pedido',\n",
        "  'pedido',\n",
        "  'pedido',\n",
        "  'pedido',\n",
        "  'pedido',\n",
        "  'pedido',\n",
        "  'pedido',\n",
        "  'pedido',\n",
        "  'pedido',\n",
        "  'pedido',\n",
        "  'pedido',\n",
        "  'pedido',\n",
        "  'pedido',\n",
        "  'pedido',\n",
        "  'pedido',\n",
        "  'pedido',\n",
        "  'pedido',\n",
        "  'pedido',\n",
        "  'pedido de entrega', \n",
        "  'pedido de entrega',\n",
        "  'pedido de entrega',\n",
        "  'pedido de entrega', \n",
        "  'pedido de entrega',\n",
        "  'pedido de entrega',\n",
        "  'reclamacao', \n",
        "  'reclamacao', \n",
        "  'reclamacao', \n",
        "  'reclamacao', \n",
        "  'reclamacao', \n",
        "  'reclamacao', \n",
        "  'reclamacao', \n",
        "  'reclamacao', \n",
        "  'reclamacao', \n",
        "  'reclamacao', \n",
        "  'reclamacao', \n",
        "  'reclamacao', \n",
        "  'reclamacao', \n",
        "  'reclamacao', \n",
        "  'reclamacao', \n",
        "  'reclamacao', \n",
        "  'reclamacao', \n",
        "  'reclamacao', \n",
        "  'reclamacao', \n",
        "  'reclamacao', \n",
        "  'reclamacao', \n",
        "  'reclamacao', \n",
        "  'reclamacao', \n",
        "  'reclamacao', \n",
        "  'reclamacao', \n",
        "  'reclamacao', \n",
        "  'reclamacao', \n",
        "  'reclamacao',\n",
        "  'reclamacao',\n",
        "  'endereco',\n",
        "  'endereco',\n",
        "  'endereco',\n",
        "] \n",
        "\n",
        "treino_sentencas = [  \n",
        "  #cardapio: 33 exemplos\n",
        "  'gostaria de ver o cardápio primeiro por favor',\n",
        "  'posso ver o cardapio?',\n",
        "  'o menu por favor',\n",
        "  'quais são as pizzas que vcs tem?',\n",
        "  'que tipo de pizza vcs fazem?',\n",
        "  'tem pizza calabresa?',\n",
        "  'qual é o carro chefe de vcs?',\n",
        "  'alguma pizza doce?',\n",
        "  'vcs tem pizzas de chocolate',\n",
        "  'o que vc servem aki',\n",
        "  'me passa a carta de pizza',\n",
        "  'quais sao os pratos vegetarianos',\n",
        "  'tem alguma vegetariana?',\n",
        "  'alguma coisa vegana no cardapio?',\n",
        "  'tem opcoes sem lactose?',\n",
        "  'alguma pizza sem glúten',\n",
        "  'vcs servem alguma coisa sem gluten?',\n",
        "  'oq vcs tem pra beber?',\n",
        "  'da pra beber o que',\n",
        "  'tem alguma coisa pra beber',\n",
        "  'qual refri vc tem?',\n",
        "  'quais as opçoes de refrigerante?',\n",
        "  'quais refrigerantes têm?',\n",
        "  'têm suco de qual sabor?',\n",
        "  'que suco vcs tem?',\n",
        "  'o suco é natural?',\n",
        "  'qual cerveja vc pode me trazer?',\n",
        "  'qual cerveja vcs tem?',\n",
        "  'tem cerveja preta?',\n",
        "  'tem vinho?',\n",
        "  'quais vinhos vocês trabalham?',\n",
        "  'Posso ver o Cardápio?',\n",
        "  'Queria dar uma olhada nas opções sem lactose',\n",
        "  #conta: 7 exemplos\n",
        "  'a conta por favor',\n",
        "  'fecha a conta',\n",
        "  'quanto deu no total',\n",
        "  've pra mim a conta',\n",
        "  'quanto foi tudo?',\n",
        "  'quero pagar',\n",
        "  'Passa no credito',\n",
        "  #desconto: 5 exemplos\n",
        "  'me da 20% de desconto',\n",
        "  'a vista tem desconto?',\n",
        "  'arredonda aí fera',\n",
        "  'tem 10% à vista?',\n",
        "  'Se comprar 2 grandes tem deconto?',\n",
        "  #elogio:  26 exemplos\n",
        "  'atendimento ótimo',\n",
        "  'chegou muiiito rápido. tudo perfeito. pizza maravilhosa',\n",
        "  'super gostoso ainda chegou antes do tempo previsto delicia',\n",
        "  'muuuito gostosa',\n",
        "  'esta muito boa',\n",
        "  'bom d+',\n",
        "  'essa pizza está demais',\n",
        "  'estava deliciosa',\n",
        "  'voces estão de parabéns!',\n",
        "  'o sabor está inigualável',\n",
        "  'nunca comi algo tão bom como isso',\n",
        "  'essa é a melhor pizza que experimentei na vida',\n",
        "  'melhor impossível',\n",
        "  'excelente, gostei mto',\n",
        "  'entrega super rápida!',\n",
        "  'o entregador foi super rápido',\n",
        "  'o cara foi gnt boa!',\n",
        "  'excelente funcionário',\n",
        "  'o pessoal trabalha super bem',\n",
        "  'só tenho elogios',\n",
        "  'gostei do local, ótima vista',\n",
        "  'melhor lugar que já comi',\n",
        "  'o ambiente é muito agradável',\n",
        "  'isso está demais, muito legal',\n",
        "  'superou minhas expectativas',\n",
        "  'Gostei muito estave bem temperada',\n",
        "  #forma de pagamento: 12 exemplos\n",
        "  'quais formas de pgto vcs aceitam?',\n",
        "  'quais meios de pagamento são aceitos?',\n",
        "  'vcs aceitam alguma forma de pagamento não convencional?',\n",
        "  'da pra parcelar?',\n",
        "  'passa no cartao?',\n",
        "  'da pra dividir no cartão?',\n",
        "  'passa no credito?',\n",
        "  'posso passar no debito?',\n",
        "  'da pra pagar online?',\n",
        "  'aceitam paypal',\n",
        "  'aqui passa vale alimentação',\n",
        "  'Vcs aceitam cheque?',\n",
        "  #funcionario: 9 exemplos\n",
        "  'vocês poderiam mandar alguém aqui para limpar a mesa',\n",
        "  'limpa a minha mesa',\n",
        "  'a mesa está suja',\n",
        "  'chama alguém pra juntar as mesas?',\n",
        "  'você pode buscar outra cadeira?',\n",
        "  'tem como mudar a TV de canal?',\n",
        "  'da pra abaixar o volume da musica',\n",
        "  'pode tirar uma foto da gente, por favor?',\n",
        "  'Vc pode colocar mais uma cadeira',\n",
        "  #gorjeta: 6 exemplos\n",
        "  'quero dar 30 reais de gorjeta',\n",
        "  'pode ficar com o resto',\n",
        "  'fique com o troco',\n",
        "  'o que sobrar fica pra vocês',\n",
        "  'vc pode ficar com oq sobrar',\n",
        "  'Toma aki um extra',\n",
        "  #pedido: 32 exemplos\n",
        "  'gostaria de uma pizza e uma coca, por favor',\n",
        "  'uma pizza de calabresa',\n",
        "  '1 piza',\n",
        "  'tres pizas de queijo',\n",
        "  'mais uma coca-cola',\n",
        "  'quero uma de quatro queijos',\n",
        "  'cinco queijos pra levar',\n",
        "  'duas médias, uma portuguesa e uma frango catupiry',\n",
        "  'meia muçarela e meia palmito, grande plz',\n",
        "  '1 de mussarela e uma coca 2 litros',\n",
        "  'uma toscana de entrada e refri',\n",
        "  'uma escarola media e outra de milho',\n",
        "  'lombinho e marguerita e dois guaranas',\n",
        "  'acho que bacon e atum e pra beber kuat',\n",
        "  'uma americana grande e skol litro',\n",
        "  '1 baiana e 3 latas de cerveja',\n",
        "  'tubaina pro meu filho e pra mim uma antarctica',\n",
        "  'uma margherita, uma alho e oleo e um balde de heineken',\n",
        "  'quero uma grande de pepperoni e uma pizza media de banana',\n",
        "  'pizza doce quero uma de brigadeiro pequena',\n",
        "  '2 vegetarianas e 1 suco de laranja e outra de acerola',\n",
        "  'uma vegetariana e outra de brócolis',\n",
        "  '1 pequena de vegetariana por enquanto',\n",
        "  'quero uma grande da casa e uma pequena de bacon pra levar',\n",
        "  '2 fantas diet e uma sprite',\n",
        "  'Uma grande de chocolate',\n",
        "  '2 sucos com gelo',\n",
        "  'napolitana sem borda',\n",
        "  'queremos duas pizzas',\n",
        "  'quero uma pequena e uma média',\n",
        "  'Quero duas cocas',\n",
        "  'Uma de calabresa',\n",
        "  #pedido de entrega: 6 exemplos\n",
        "  'vcs fazem entrega?',\n",
        "  'vocês entregam?',\n",
        "  'têm algum entregador aí que pode trazer minha pizza?',\n",
        "  'pode entregar aqui no bairro?',\n",
        "  'Tem como entregar no centro?',\n",
        "  'Queria que entregasse pra mim',\n",
        "  #reclamacao: 28 exemplos\n",
        "  'fui muito mal atendido',\n",
        "  'nao volto mais aqui comida pessima atendimento horrivel, odiei o lugar',\n",
        "  'estava uma delícia as pizzas que pedi, só não gostei que esqueceram do meu refrigerante na hora do pedido, mas foi entregue depois, só que isso me gerou um pequeno transtorno',\n",
        "  'a taxa de entrega é muito cara. A fatia de pizza é muito pequena pelo valor. E algumas pizzas não são iguais as das fotos.',\n",
        "  'moto entregador completamente, sem educação, falta de profissionalismo, comida como sempre excelente e excedendo as expectativas, mas agora sobre a postura do moto entregador acho que poderia ser alguém melhor, o rapaz foi desnecessário na entrega',\n",
        "  'muito barulho, não da pra entender nd',\n",
        "  'o suco tava com gosto estranho, péssimo',\n",
        "  'horrível, mto ruim',\n",
        "  'nota zero',\n",
        "  'td muito caro',\n",
        "  'tava sem tempero, n tinha gosto de nada',\n",
        "  'mto salgado, parece q botaram 1 kg de sal',\n",
        "  'a borda era mto fina',\n",
        "  'eu pedi sem borda e veio com borda',\n",
        "  'o garçom anotou errado meu pedido',\n",
        "  'a atendente não entendeu oq eu pedi, ele anotou tudo errado',\n",
        "  'erraram meu pedido',\n",
        "  'não gostei do serviço, uma bagunça total',\n",
        "  'demorou mais de uma hora e a pizza chegou fria',\n",
        "  'não vou comer essa pizza',\n",
        "  'quero meu dinheiro de volta',\n",
        "  'esperei um tempão e não fui atendido',\n",
        "  'já faz + de 1 hora que estou esperando',\n",
        "  'meu pedido ainda não chegou',\n",
        "  'meu Deus do céu, cade minha pizza',\n",
        "  'n tem ninguem pra atender',\n",
        "  'nunca mais venho aqui',\n",
        "  'perdi meu tempo e dinheiro',\n",
        "  'A comida estava sem tempero,vc e uma vergonha para profissao',\n",
        "  # enderecos\n",
        "  'Rua fulano de tal numero 30',\n",
        "  'R. Cel. Francisco Gomes, 1290 - Anita Garibaldi, Joinville - SC, 89202-073',\n",
        "  'Avenida Ayrton Senna, 2200',\n",
        "]\n",
        "\n",
        "entidades = {\n",
        "  'pizza': ['alho e oleo', 'americana', 'atum', 'bacon', 'baiana', 'brocolis', 'calabresa', 'cinco queijos', 'escarola', 'frango catupiry', 'lombinho', 'margherita', 'milho', 'mussarela', 'napolitana', 'palmito', 'pepperoni', 'portuguesa', 'quatro queijos', 'toscana', 'vegetariana', 'banana', 'brigadeiro', 'chocolate','pizza','pizzas','piza','pizas'],\n",
        "  'refri':['coca','coca-cola','coke','guarana','guaranas','cocas','kuat','sprite','fanta','fantas','pepsi','refri','refrigerante'],\n",
        "  'cerveja':['skol','antarctica','heineken','budweiser','bohemia','devassa','eisenbahn','cerveja','cerva'],\n",
        "  'tacaVinho':['taça de vinho','taças de vinho','taca de vinho','tacas de vinho','taca de vinhos','tacas de vinhos'],\n",
        "  'garrafaVinho':['garrafa de vinho','garrafas de vinho'],\n",
        "  'suco':['uva','laranja','goiaba','acerola','maracuja','limao','manga','abacaxi','caju','coco','côco','graviola','cupuaçu','cupuacu','morango','pessego','pêssego','melao','melão','suco','sucos'],\n",
        "  'agua':['agua','água','aguas','águas'],\n",
        "  'num':['1','2','3','4','5','6','7','8','9','10','um','dois','tres','quatro','cinco','seis','sete','oito','nove','dez','uma','duas'],\n",
        "}"
      ],
      "execution_count": 0,
      "outputs": []
    },
    {
      "cell_type": "code",
      "metadata": {
        "id": "Mm3--2xXaXnc",
        "colab_type": "code",
        "colab": {}
      },
      "source": [
        "import sklearn \n",
        "import numpy as np\n",
        "from sklearn.feature_extraction.text import TfidfVectorizer\n",
        "\n",
        "vectorizer = TfidfVectorizer(sublinear_tf=True, max_df=0.5,strip_accents='unicode')"
      ],
      "execution_count": 0,
      "outputs": []
    },
    {
      "cell_type": "code",
      "metadata": {
        "id": "E-9avDbBT1wn",
        "colab_type": "code",
        "colab": {}
      },
      "source": [
        "#converte as sentenças em Bag-of-Words utilizando a função TfidfVectorizer, \n",
        "#a sentença é representada como um multiconjunto de suas palavras, \n",
        "#desconsiderando a estrutura gramatical e até mesmo a ordenação, mas mantendo sua multiplicidade.\n",
        "def sentencas_bag_of_words(sentencas, intencoes):\n",
        "  x = vectorizer.fit_transform(sentencas)\n",
        "  y = np.array(intencoes)\n",
        "\n",
        "  return {'x': x, 'y': y}"
      ],
      "execution_count": 0,
      "outputs": []
    },
    {
      "cell_type": "markdown",
      "metadata": {
        "id": "cN0RngYdxBNm",
        "colab_type": "text"
      },
      "source": [
        "# Classificadores"
      ]
    },
    {
      "cell_type": "code",
      "metadata": {
        "id": "RKJ6NQwf91vR",
        "colab_type": "code",
        "colab": {}
      },
      "source": [
        "#treinamento do classificador 'Árvore de Decisão'\n",
        "def classificar_intencao_arvore_decisao(sentenca, x, y):\n",
        "  from sklearn.linear_model import LogisticRegression\n",
        "  \n",
        "  model = LogisticRegression(random_state=0, solver='lbfgs',multi_class='multinomial')\n",
        "  model.fit(x, y)\n",
        "\n",
        "  inst = vectorizer.transform(sentenca)\n",
        "\n",
        "  return model.predict(inst)"
      ],
      "execution_count": 0,
      "outputs": []
    },
    {
      "cell_type": "code",
      "metadata": {
        "id": "LYVeuKDayx82",
        "colab_type": "code",
        "colab": {}
      },
      "source": [
        "#treinamento do classificador 'Regressão Logística'\n",
        "def classificar_intencao_regressao_logistica(sentenca, x, y):\n",
        "  from sklearn.tree import DecisionTreeClassifier\n",
        "\n",
        "  model = DecisionTreeClassifier(random_state=0)\n",
        "  model.fit(x, y)\n",
        "  \n",
        "  inst = vectorizer.transform(sentenca)\n",
        "  \n",
        "  return model.predict(inst)"
      ],
      "execution_count": 0,
      "outputs": []
    },
    {
      "cell_type": "code",
      "metadata": {
        "id": "xPCwGMWoyyJ1",
        "colab_type": "code",
        "colab": {}
      },
      "source": [
        "#treinamento do classificador 'KNN'\n",
        "def classificar_intencao_knn(sentenca, x, y):\n",
        "  from sklearn.neighbors import KNeighborsClassifier\n",
        "\n",
        "  model = KNeighborsClassifier(n_neighbors=1)\n",
        "  model.fit(x, y)\n",
        "\n",
        "  inst = vectorizer.transform(sentenca)\n",
        "  \n",
        "  return model.predict(inst)"
      ],
      "execution_count": 0,
      "outputs": []
    },
    {
      "cell_type": "code",
      "metadata": {
        "id": "xsPJQhlIyymi",
        "colab_type": "code",
        "colab": {}
      },
      "source": [
        "#treinamento do classificador 'MLP'\n",
        "def classificar_intencao_mlp(sentenca, x, y):\n",
        "  from sklearn.neural_network import MLPClassifier\n",
        "\n",
        "  model = MLPClassifier(solver='lbfgs', alpha=1e-5, hidden_layer_sizes=(5, 2), random_state=1)\n",
        "  model.fit(x, y)   \n",
        "\n",
        "  inst = vectorizer.transform(sentenca)\n",
        "\n",
        "  return model.predict(inst)"
      ],
      "execution_count": 0,
      "outputs": []
    },
    {
      "cell_type": "code",
      "metadata": {
        "id": "gBx_HaonnabQ",
        "colab_type": "code",
        "colab": {}
      },
      "source": [
        "#treinamento do classificador 'Gradiente Descendente Estocástico'\n",
        "def classificar_intencao_SGDC(sentenca, x, y):\n",
        "  from sklearn.linear_model import SGDClassifier\n",
        "\n",
        "  model = SGDClassifier(loss=\"hinge\", penalty=\"l2\", max_iter=100)\n",
        "  model.fit(x, y)\n",
        "\n",
        "  inst = vectorizer.transform(sentenca)\n",
        "  \n",
        "  return model.predict(inst)"
      ],
      "execution_count": 0,
      "outputs": []
    },
    {
      "cell_type": "markdown",
      "metadata": {
        "id": "PvngoO8zvp8d",
        "colab_type": "text"
      },
      "source": [
        "# Avaliação dos Classificadores\n"
      ]
    },
    {
      "cell_type": "code",
      "metadata": {
        "id": "_J5coLDaSZ5u",
        "colab_type": "code",
        "colab": {}
      },
      "source": [
        "# Teste usando o Leave-one-out\n",
        "def predicao_sentencas_teste(classificador):\n",
        "  import numpy as np\n",
        "  from sklearn.model_selection import LeaveOneOut\n",
        "\n",
        "  intencoes = []\n",
        "  predicoes = []\n",
        "  predicao_intencoes = []\n",
        "\n",
        "  X = np.array(treino_sentencas)\n",
        "  Y = np.array(treino_intencao)\n",
        "\n",
        "  loo = LeaveOneOut()\n",
        "  loo.get_n_splits(X)\n",
        "\n",
        "  for train_index, test_index in loo.split(X):\n",
        "    X_train, X_test = X[train_index], X[test_index]\n",
        "    Y_train, Y_test = Y[train_index], Y[test_index]\n",
        "\n",
        "    sentecas_intencoes = sentencas_bag_of_words(X_train, Y_train)\n",
        "\n",
        "    predicao = classificador(X_test, sentecas_intencoes['x'], sentecas_intencoes['y'])\n",
        "    intencoes.append(Y_test[0])\n",
        "    predicoes.append(predicao[0])\n",
        "\n",
        "  predicao_intencoes = {'intencao': intencoes, 'predicao': predicoes}\n",
        "\n",
        "  return predicao_intencoes"
      ],
      "execution_count": 0,
      "outputs": []
    },
    {
      "cell_type": "code",
      "metadata": {
        "id": "mNluwAZ3gwod",
        "colab_type": "code",
        "colab": {}
      },
      "source": [
        "def classificadores():  \n",
        "  from sklearn.metrics import recall_score\n",
        "  from sklearn.metrics import precision_score\n",
        "  from sklearn.metrics import accuracy_score\n",
        "\n",
        "  from prettytable import PrettyTable\n",
        "\n",
        "  recall = []\n",
        "  precission = []\n",
        "  accuracy = []\n",
        "\n",
        "  # Regressao Logistica accuracy, precision, recall\n",
        "  predicao_intencoes = predicao_sentencas_teste(classificar_intencao_regressao_logistica)\n",
        "  recall.append(recall_score(predicao_intencoes['intencao'], predicao_intencoes['predicao'], average='weighted'))\n",
        "  precission.append(precision_score(predicao_intencoes['intencao'], predicao_intencoes['predicao'], average='weighted', labels=np.unique(predicao_intencoes['predicao'])))\n",
        "  accuracy.append(accuracy_score(predicao_intencoes['intencao'], predicao_intencoes['predicao']))\n",
        "\n",
        "  # Arvore de decisao accuracy, precision, recall\n",
        "  predicao_intencoes = predicao_sentencas_teste(classificar_intencao_arvore_decisao)\n",
        "  recall.append(recall_score(predicao_intencoes['intencao'], predicao_intencoes['predicao'], average='weighted')) \n",
        "  precission.append(precision_score(predicao_intencoes['intencao'], predicao_intencoes['predicao'], average='weighted', labels=np.unique(predicao_intencoes['predicao']))) \n",
        "  accuracy.append(accuracy_score(predicao_intencoes['intencao'], predicao_intencoes['predicao']))\n",
        "\n",
        "  # KNN accuracy, precision, recall\n",
        "  predicao_intencoes = predicao_sentencas_teste(classificar_intencao_knn)\n",
        "  recall.append(recall_score(predicao_intencoes['intencao'], predicao_intencoes['predicao'], average='weighted'))\n",
        "  precission.append(precision_score(predicao_intencoes['intencao'], predicao_intencoes['predicao'], average='weighted', labels=np.unique(predicao_intencoes['predicao']))) \n",
        "  accuracy.append(accuracy_score(predicao_intencoes['intencao'], predicao_intencoes['predicao']))\n",
        "\n",
        "  # Regressao Logistica accuracy, precision, recall\n",
        "  predicao_intencoes = predicao_sentencas_teste(classificar_intencao_mlp)\n",
        "  recall.append(recall_score(predicao_intencoes['intencao'], predicao_intencoes['predicao'], average='weighted'))    \n",
        "  precission.append(precision_score(predicao_intencoes['intencao'], predicao_intencoes['predicao'], average='weighted', labels=np.unique(predicao_intencoes['predicao']))) \n",
        "  accuracy.append(accuracy_score(predicao_intencoes['intencao'], predicao_intencoes['predicao']))\n",
        "\n",
        "  # Gradiente Descendente Estocástico accuracy, precision, recall\n",
        "  predicao_intencoes = predicao_sentencas_teste(classificar_intencao_SGDC)\n",
        "  recall.append(recall_score(predicao_intencoes['intencao'], predicao_intencoes['predicao'], average='weighted'))    \n",
        "  precission.append(precision_score(predicao_intencoes['intencao'], predicao_intencoes['predicao'], average='weighted', labels=np.unique(predicao_intencoes['predicao']))) \n",
        "  accuracy.append(accuracy_score(predicao_intencoes['intencao'], predicao_intencoes['predicao']))\n",
        "\n",
        "  # Monta a tabela\n",
        "  classificadores = ['Regressão Logistica','Árvores de Decisão','KNN','MLP', 'Gradiente Descendente Estocástico']\n",
        "\n",
        "  x = PrettyTable([\"Classificador\", \"Taxa de Acerto\", \"Precisão\", \"Renovação\"])\n",
        "\n",
        "  for i in range(5):\n",
        "    x.add_row([classificadores[i], accuracy[i], precission[i], recall[i]])\n",
        "\n",
        "  return x "
      ],
      "execution_count": 0,
      "outputs": []
    },
    {
      "cell_type": "code",
      "metadata": {
        "id": "D4Djxs98hOiU",
        "colab_type": "code",
        "outputId": "a080cbb2-3d15-4a1a-d216-6c578cd04519",
        "colab": {
          "base_uri": "https://localhost:8080/",
          "height": 170
        }
      },
      "source": [
        "print(classificadores())"
      ],
      "execution_count": 0,
      "outputs": [
        {
          "output_type": "stream",
          "text": [
            "+-----------------------------------+---------------------+--------------------+---------------------+\n",
            "|           Classificador           |    Taxa de Acerto   |      Precisão      |      Renovação      |\n",
            "+-----------------------------------+---------------------+--------------------+---------------------+\n",
            "|        Regressão Logistica        |         0.5         | 0.5171250283136136 |         0.5         |\n",
            "|         Árvores de Decisão        |  0.5654761904761905 | 0.5690634291991863 |  0.5654761904761905 |\n",
            "|                KNN                |  0.5595238095238095 | 0.5897740691943589 |  0.5595238095238095 |\n",
            "|                MLP                | 0.27380952380952384 | 0.278577977224474  | 0.27380952380952384 |\n",
            "| Gradiente Descendente Estocástico |  0.6607142857142857 | 0.6714594928880643 |  0.6607142857142857 |\n",
            "+-----------------------------------+---------------------+--------------------+---------------------+\n"
          ],
          "name": "stdout"
        }
      ]
    },
    {
      "cell_type": "markdown",
      "metadata": {
        "id": "_Q9fuoSnvN4T",
        "colab_type": "text"
      },
      "source": [
        "# ChatBot\n"
      ]
    },
    {
      "cell_type": "code",
      "metadata": {
        "id": "ituDhFxC5CvN",
        "colab_type": "code",
        "colab": {}
      },
      "source": [
        "#metodo para retornar o cardapio\n",
        "def cardapio():\n",
        "  cardapio = \"\\n CARDÁPIO PIZZARIA FACOM\\n\\n\"\n",
        "  refrigerantes = \"Refrigerante 2L: R$6.50\\n Coca-Cola\\n Guaraná\\n Kuat\\n Sprite\\n Fanta\\n Pepsi\\n\\n\"\n",
        "  agua = \"Água 250ml: R$3.00\\n\\n\"\n",
        "  cervejas = \"Cerveja 600ml: R$9.00\\n Antarctica\\n Bohemia\\n Budweiser\\n Devassa\\n Eisenbahn\\n Heineken\\n Skol\\n\\n\"\n",
        "  sucos = \"Suco 300ml: R$4.00\\n Abacaxi\\n Acerola\\n Caju\\n Côco\\n Cupuaçu\\n Goiaba\\n Graviola\\n Laranja\\n Limao\\n Manga\\n Maracuja\\n Melão\\n Morango\\n Pêssego\\n Uva\\n\\n\"\n",
        "  vinhos = \"Vinho:\\n Taça 250ml: R$15.00\\n Garrafa 750ml: R$40.00\\n\\n\"\n",
        "  pizzas = \"Pizza Tamanho Único: R$20.00\\n Americana\\n Atum\\n Bacon\\n Baiana\\n Brocolis\\n Calabresa\\n Escarola\\n Frango \\n Lombinho\\n Margherita\\n Milho\\n Mussarela\\n Napolitana\\n Palmito\\n Pepperoni\\n Portuguesa\\n Toscana\\n Vegetariana\\n Banana\\n Brigadeiro\\n Chocolate\"\n",
        "\n",
        "  return cardapio+refrigerantes+agua+cervejas+sucos+vinhos+pizzas"
      ],
      "execution_count": 0,
      "outputs": []
    },
    {
      "cell_type": "code",
      "metadata": {
        "id": "4lEmsSPQnMF2",
        "colab_type": "code",
        "colab": {}
      },
      "source": [
        "#etiquetador de entidades\n",
        "def etiquetador():\n",
        "  entidades = {\n",
        "    'pizza': ['alho e oleo', 'americana', 'atum', 'bacon', 'baiana', 'brocolis', 'calabresa', 'cinco queijos', 'escarola', 'frango catupiry', 'lombinho', 'margherita', 'milho', 'mussarela', 'napolitana', 'palmito', 'pepperoni', 'portuguesa', 'quatro queijos', 'toscana', 'vegetariana', 'banana', 'brigadeiro', 'chocolate','pizza','pizzas','piza','pizas'],\n",
        "    'refri':['coca','coca-cola','coke','guarana','guaranas','cocas','kuat','sprite','fanta','fantas','pepsi','refri','refrigerante'],\n",
        "    'cerveja':['skol','antarctica','heineken','budweiser','bohemia','devassa','eisenbahn','cerveja','cerva'],\n",
        "    'tacaVinho':['taça de vinho','taças de vinho','taca de vinho','tacas de vinho','taca de vinhos','tacas de vinhos'],\n",
        "    'garrafaVinho':['garrafa de vinho','garrafas de vinho'],\n",
        "    'suco':['uva','laranja','goiaba','acerola','maracuja','limao','manga','abacaxi','caju','coco','côco','graviola','cupuaçu','cupuacu','morango','pessego','pêssego','melao','melão','suco','sucos'],\n",
        "    'agua':['agua','água','aguas','águas'],\n",
        "    #'prato':['soba','espeto','sobas','espetos'],\n",
        "    'num':['1','2','3','4','5','6','7','8','9','10','um','dois','tres','quatro','cinco','seis','sete','oito','nove','dez','uma','duas'],\n",
        "  }\n",
        "  return entidades"
      ],
      "execution_count": 0,
      "outputs": []
    },
    {
      "cell_type": "code",
      "metadata": {
        "id": "1UDrFOTWVBtA",
        "colab_type": "code",
        "colab": {}
      },
      "source": [
        "#reconhece a entidade\n",
        "import re\n",
        "def reconhece_entidades(sentenca):\n",
        "  #etiquetador de entidades\n",
        "  sentenca = sentenca.lower()\n",
        "  s = re.sub('[^A-Za-z0-9]+', ' ', sentenca)\n",
        "  lista_entidades = []\n",
        "\n",
        "  #divide a sentença em palavras e as coloca em um dicionario, caso faça parte da entidade\n",
        "  for palavra in s.split():\n",
        "    for etiqueta in entidades.keys():\n",
        "      if palavra in entidades[etiqueta]: \n",
        "        lista_entidades.append({'palavra': palavra, 'etiqueta': etiqueta} ) \n",
        "  return lista_entidades"
      ],
      "execution_count": 0,
      "outputs": []
    },
    {
      "cell_type": "code",
      "metadata": {
        "id": "6LczrlrjLPTD",
        "colab_type": "code",
        "colab": {}
      },
      "source": [
        "#verifica a intenção e retorna uma resposta adequada\n",
        "conta = 0.00\n",
        "\n",
        "def mensagem_resposta(sentenca):\n",
        "  sentencas_intencoes = sentencas_bag_of_words(treino_sentencas, treino_intencao)\n",
        "  intencao = classificar_intencao_knn([sentenca], sentencas_intencoes['x'], sentencas_intencoes['y'])\n",
        "\n",
        "  if(intencao == 'cardapio'):\n",
        "    return {\"mensagem\": cardapio(), \"intencao\": intencao }\n",
        "  elif(intencao == 'pedido'):\n",
        "    return {\"mensagem\": fazer_pedido(sentenca) + 'saindo no capricho'  , \"intencao\": intencao }\n",
        "  elif(intencao == 'funcionario'):\n",
        "    return {\"mensagem\":'Um funcionario ira te atender', \"intencao\": intencao }\n",
        "  elif(intencao == 'conta'):\n",
        "    valor_conta = conta\n",
        "    return {\"mensagem\": 'Valor total da conta: R$ ' + str(valor_conta), \"intencao\": intencao }\n",
        "  elif(intencao == 'elogio'):\n",
        "    return {\"mensagem\":'Agradecemos seu elogio', \"intencao\": intencao }\n",
        "  elif(intencao == 'reclamacao'):\n",
        "    return {\"mensagem\":'Desculpe pelo acontecido', \"intencao\": intencao }\n",
        "  elif(intencao == 'forma de pagamento'):\n",
        "    return {\"mensagem\":'As Formas de pagamento sao Cartao e Dinheiro', \"intencao\": intencao }\n",
        "  elif(intencao == 'pedido de entrega'):\n",
        "    return {\"mensagem\":'Sim, entregamos para todas as regiões da cidade', \"intencao\": intencao }\n",
        "  elif(intencao == 'endereco'):\n",
        "    return {\"mensagem\":'Local de Entrega:'+ sentenca, \"intencao\": intencao }\n",
        "  elif(intencao == 'gorjeta'):\n",
        "    return {\"mensagem\":'Obrigado pela Gorjeta', \"intencao\": intencao }\n",
        "  elif(intencao == 'desconto'):\n",
        "    return {\"mensagem\":'Desculpe mas não trabalhamos com desconto', \"intencao\": intencao }"
      ],
      "execution_count": 0,
      "outputs": []
    },
    {
      "cell_type": "code",
      "metadata": {
        "id": "SfcNJpDXkmTb",
        "colab_type": "code",
        "colab": {}
      },
      "source": [
        "def fazer_pedido(sentenca):\n",
        "    entidades = reconhece_entidades(sentenca)\n",
        "    pedido = ''\n",
        "\n",
        "    #adicionar_pedido_conta(get_quantidades('2'), 'pizza')\n",
        "    \n",
        "    for entidade in entidades:\n",
        "      pedido += entidade['palavra'] + ' '\n",
        "  \n",
        "    return pedido"
      ],
      "execution_count": 0,
      "outputs": []
    },
    {
      "cell_type": "code",
      "metadata": {
        "id": "2Rw5D6mkrqWX",
        "colab_type": "code",
        "colab": {}
      },
      "source": [
        "def get_quantidades(sentenca):\n",
        "  if('um', 'uma', '1'):\n",
        "      return 1\n",
        "  elif('dois', 'duas', '2'):\n",
        "      return 2\n",
        "  elif('tres', '3'):\n",
        "      return 3\n",
        "  elif('quatro', '4'):\n",
        "      return 4\n",
        "  elif('cinco', '5'):\n",
        "      return 5\n",
        "  elif('seis', '6'):\n",
        "      return 6\n",
        "  elif('sete', '7'):\n",
        "      return 7\n",
        "  elif('oito', '8'):\n",
        "      return 8\n",
        "  elif('nove', '9'):\n",
        "      return 9\n",
        "  elif('dez', '10'):\n",
        "      return 10"
      ],
      "execution_count": 0,
      "outputs": []
    },
    {
      "cell_type": "code",
      "metadata": {
        "id": "fb9Um1c8h0h4",
        "colab_type": "code",
        "colab": {}
      },
      "source": [
        "# calcula o pedido\n",
        "def adicionar_pedido_conta(quantidade, pedido):\n",
        "  valorPizza = 20.00\n",
        "  valorRefri = 6.50\n",
        "  valorCerveja = 9.00\n",
        "  valorTacaVinho = 10.00\n",
        "  valorGarrafaVinho = 40.00\n",
        "  valorSuco = 4.00\n",
        "  valorAgua = 3.00\n",
        "  valor = 0.00\n",
        "\n",
        "  if pedido == 'pizza':\n",
        "    valor = quantidade * valorPizza\n",
        "  elif pedido == 'refri':\n",
        "    valor = quantidade * valorRefri\n",
        "  elif pedido == 'cerveja':\n",
        "    valor = quantidade * valorCerveja\n",
        "  elif pedido == 'tacaVinho':\n",
        "    valor = quantidade * valorGarrafaVinho\n",
        "  elif pedido == 'garrafaVinho':\n",
        "    valor = quantidade * valorTacaVinho\n",
        "  elif pedido == 'suco':\n",
        "    valor = quantidade * valorSuco\n",
        "  elif pedido == 'agua':\n",
        "    valor = quantidade * valorAgua\n",
        "\n",
        "  conta += valor\n",
        "      # while(resposta['intencao'] != 'conta'):\n",
        "    # valorTotal = reconhece_entidades(mensagem)\n",
        "    # conta += valorTotal\n",
        "    # resposta = mensagem_resposta([mensagem])\n",
        "    # print(resposta['mensagem'])\n",
        "    # if resposta['intencao'] == 'conta':\n",
        "    #   break;\n",
        "    # if resposta['intencao'] == 'pedido de entrega':\n",
        "    #   localEntrega = input('Taxa de entrega única: R$5.00\\nInforme sua localização, por favor\\n')\n",
        "    # if conta==0:\n",
        "    #   print('Sinta-se à vontade e faça seu pedido')\n",
        "    # else:\n",
        "    #   print('Gostaria de algo mais ou deseja solicitar a conta?')\n",
        "    #   conta += 5.00    \n",
        "    #   mensagem = input()\n",
        "    # if conta != 0:\n",
        "    #   print('Valor total da conta: R$', conta)\n",
        "    # else:\n",
        "    #   print('Valor total da conta: R$0.00')"
      ],
      "execution_count": 0,
      "outputs": []
    },
    {
      "cell_type": "code",
      "metadata": {
        "id": "6BAfBnYJEeAe",
        "colab_type": "code",
        "colab": {}
      },
      "source": [
        "#o usuário informa uma entrada e o bot realiza as operações solicitadas\n",
        "# mensagem = input('Seja bem vindo a pizzaria da FACOM, o que gostaria de pedir?\\n')\n",
        "# resposta = {'mensagem':'', 'intencao': ''}\n",
        "# conta = 0\n",
        "\n",
        "# while(resposta['intencao'] != 'conta'):\n",
        "#   valorTotal = reconhece_entidades(mensagem)\n",
        "#   conta += valorTotal\n",
        "#   resposta = mensagem_resposta([mensagem])\n",
        "#   print(resposta['mensagem'])\n",
        "#   if resposta['intencao'] == 'conta':\n",
        "#     break;\n",
        "#   if resposta['intencao'] == 'pedido de entrega':\n",
        "#     localEntrega = input('Taxa de entrega única: R$5.00\\nInforme sua localização, por favor\\n')\n",
        "#     if conta==0:\n",
        "#       print('Sinta-se à vontade e faça seu pedido')\n",
        "#     else:\n",
        "#       print('Gostaria de algo mais ou deseja solicitar a conta?')\n",
        "#     conta += 5.00    \n",
        "#   mensagem = input()\n",
        "# if conta != 0:\n",
        "#   print('Valor total da conta: R$', conta)\n",
        "# else:\n",
        "#   print('Valor total da conta: R$0.00')"
      ],
      "execution_count": 0,
      "outputs": []
    },
    {
      "cell_type": "markdown",
      "metadata": {
        "id": "T0tG2ssAv17b",
        "colab_type": "text"
      },
      "source": [
        "# integração com Telegram"
      ]
    },
    {
      "cell_type": "code",
      "metadata": {
        "id": "v5kmf4IP3NuJ",
        "colab_type": "code",
        "outputId": "9ac391f1-9bd6-4ffc-d8d5-0576d0e9c614",
        "colab": {
          "base_uri": "https://localhost:8080/",
          "height": 204
        }
      },
      "source": [
        "!pip install telepot"
      ],
      "execution_count": 0,
      "outputs": [
        {
          "output_type": "stream",
          "text": [
            "Requirement already satisfied: telepot in /usr/local/lib/python3.6/dist-packages (12.7)\n",
            "Requirement already satisfied: urllib3>=1.9.1 in /usr/local/lib/python3.6/dist-packages (from telepot) (1.24.3)\n",
            "Requirement already satisfied: aiohttp>=3.0.0 in /usr/local/lib/python3.6/dist-packages (from telepot) (3.6.2)\n",
            "Requirement already satisfied: chardet<4.0,>=2.0 in /usr/local/lib/python3.6/dist-packages (from aiohttp>=3.0.0->telepot) (3.0.4)\n",
            "Requirement already satisfied: idna-ssl>=1.0; python_version < \"3.7\" in /usr/local/lib/python3.6/dist-packages (from aiohttp>=3.0.0->telepot) (1.1.0)\n",
            "Requirement already satisfied: typing-extensions>=3.6.5; python_version < \"3.7\" in /usr/local/lib/python3.6/dist-packages (from aiohttp>=3.0.0->telepot) (3.6.6)\n",
            "Requirement already satisfied: multidict<5.0,>=4.5 in /usr/local/lib/python3.6/dist-packages (from aiohttp>=3.0.0->telepot) (4.6.1)\n",
            "Requirement already satisfied: async-timeout<4.0,>=3.0 in /usr/local/lib/python3.6/dist-packages (from aiohttp>=3.0.0->telepot) (3.0.1)\n",
            "Requirement already satisfied: yarl<2.0,>=1.0 in /usr/local/lib/python3.6/dist-packages (from aiohttp>=3.0.0->telepot) (1.4.2)\n",
            "Requirement already satisfied: attrs>=17.3.0 in /usr/local/lib/python3.6/dist-packages (from aiohttp>=3.0.0->telepot) (19.3.0)\n",
            "Requirement already satisfied: idna>=2.0 in /usr/local/lib/python3.6/dist-packages (from idna-ssl>=1.0; python_version < \"3.7\"->aiohttp>=3.0.0->telepot) (2.8)\n"
          ],
          "name": "stdout"
        }
      ]
    },
    {
      "cell_type": "code",
      "metadata": {
        "id": "OUip7vb-BQDo",
        "colab_type": "code",
        "outputId": "643cb45e-c6c0-4fb9-ef9c-387e9a9f07ae",
        "colab": {
          "base_uri": "https://localhost:8080/",
          "height": 34
        }
      },
      "source": [
        "import telepot\n",
        "\n",
        "bot = telepot.Bot(\"979645673:AAEZgF5usHRKAqpOj48sXwKIhiByxl8Tivk\")\n",
        "\n",
        "bot.getUpdates()"
      ],
      "execution_count": 0,
      "outputs": [
        {
          "output_type": "execute_result",
          "data": {
            "text/plain": [
              "[]"
            ]
          },
          "metadata": {
            "tags": []
          },
          "execution_count": 21
        }
      ]
    },
    {
      "cell_type": "code",
      "metadata": {
        "id": "E8JcPxuihiDS",
        "colab_type": "code",
        "colab": {}
      },
      "source": [
        "# #TESTE\n",
        "# import telepot\n",
        "\n",
        "# bot = telepot.Bot(\"1023115021:AAGP-3mvyN97IKo2UDkGVDx70DDSrcK0h4I\")\n",
        "\n",
        "# bot.getUpdates()"
      ],
      "execution_count": 0,
      "outputs": []
    },
    {
      "cell_type": "code",
      "metadata": {
        "id": "3gLzRtkk4mIX",
        "colab_type": "code",
        "colab": {}
      },
      "source": [
        "def recebendo_mensagem(mensagem):\n",
        "    print(mensagem)\n",
        "    resposta = mensagem_resposta(mensagem['text'])\n",
        "    print(resposta)\n",
        "    bot.sendMessage(mensagem['chat']['id'], resposta['mensagem'])"
      ],
      "execution_count": 0,
      "outputs": []
    },
    {
      "cell_type": "code",
      "metadata": {
        "id": "3on7LeEJ28W_",
        "colab_type": "code",
        "outputId": "f202034e-ee24-40ec-c6ba-cef63c544d0a",
        "colab": {
          "base_uri": "https://localhost:8080/",
          "height": 139
        }
      },
      "source": [
        "from time import sleep\n",
        "\n",
        "bot.message_loop(recebendo_mensagem)\n",
        "\n",
        "while True: \n",
        "  sleep(1)"
      ],
      "execution_count": 0,
      "outputs": [
        {
          "output_type": "stream",
          "text": [
            "{'message_id': 154, 'from': {'id': 767383634, 'is_bot': False, 'first_name': 'Marcelo Campos da Silva', 'language_code': 'pt-br'}, 'chat': {'id': 767383634, 'first_name': 'Marcelo Campos da Silva', 'type': 'private'}, 'date': 1575814314, 'text': 'Uma de calabresa'}\n",
            "{'mensagem': 'uma calabresa saindo no capricho', 'intencao': array(['pedido'], dtype='<U18')}\n",
            "{'message_id': 156, 'from': {'id': 870124470, 'is_bot': False, 'first_name': '♥️', 'language_code': 'pt-br'}, 'chat': {'id': 870124470, 'first_name': '♥️', 'type': 'private'}, 'date': 1575814346, 'text': '2 coca'}\n",
            "{'mensagem': '2 coca saindo no capricho', 'intencao': array(['pedido'], dtype='<U18')}\n",
            "{'message_id': 158, 'from': {'id': 870124470, 'is_bot': False, 'first_name': '♥️', 'language_code': 'pt-br'}, 'chat': {'id': 870124470, 'first_name': '♥️', 'type': 'private'}, 'date': 1575814351, 'text': 'Conta'}\n",
            "{'mensagem': 'Valor total da conta: R$ 0.0', 'intencao': array(['conta'], dtype='<U18')}\n"
          ],
          "name": "stdout"
        }
      ]
    }
  ]
}